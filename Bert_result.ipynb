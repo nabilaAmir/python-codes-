{
  "nbformat": 4,
  "nbformat_minor": 0,
  "metadata": {
    "colab": {
      "provenance": [],
      "authorship_tag": "ABX9TyM88TEv+ERm+mj3U3tsUtYR",
      "include_colab_link": true
    },
    "kernelspec": {
      "name": "python3",
      "display_name": "Python 3"
    },
    "widgets": {
      "application/vnd.jupyter.widget-state+json": {
        "2fe6e1e6ff34415f80da57c117c72450": {
          "model_module": "@jupyter-widgets/controls",
          "model_name": "HBoxModel",
          "state": {
            "_view_name": "HBoxView",
            "_dom_classes": [],
            "_model_name": "HBoxModel",
            "_view_module": "@jupyter-widgets/controls",
            "_model_module_version": "1.5.0",
            "_view_count": null,
            "_view_module_version": "1.5.0",
            "box_style": "",
            "layout": "IPY_MODEL_af196c73451440aeb1718f040b7c3558",
            "_model_module": "@jupyter-widgets/controls",
            "children": [
              "IPY_MODEL_cb1e6617bd7e473da14dbeddb74ed3f9",
              "IPY_MODEL_923a39445aeb487db1fee91463479a08"
            ]
          },
          "model_module_version": "1.5.0"
        },
        "af196c73451440aeb1718f040b7c3558": {
          "model_module": "@jupyter-widgets/base",
          "model_name": "LayoutModel",
          "state": {
            "_view_name": "LayoutView",
            "grid_template_rows": null,
            "right": null,
            "justify_content": null,
            "_view_module": "@jupyter-widgets/base",
            "overflow": null,
            "_model_module_version": "1.2.0",
            "_view_count": null,
            "flex_flow": null,
            "width": null,
            "min_width": null,
            "border": null,
            "align_items": null,
            "bottom": null,
            "_model_module": "@jupyter-widgets/base",
            "top": null,
            "grid_column": null,
            "overflow_y": null,
            "overflow_x": null,
            "grid_auto_flow": null,
            "grid_area": null,
            "grid_template_columns": null,
            "flex": null,
            "_model_name": "LayoutModel",
            "justify_items": null,
            "grid_row": null,
            "max_height": null,
            "align_content": null,
            "visibility": null,
            "align_self": null,
            "height": null,
            "min_height": null,
            "padding": null,
            "grid_auto_rows": null,
            "grid_gap": null,
            "max_width": null,
            "order": null,
            "_view_module_version": "1.2.0",
            "grid_template_areas": null,
            "object_position": null,
            "object_fit": null,
            "grid_auto_columns": null,
            "margin": null,
            "display": null,
            "left": null
          },
          "model_module_version": "1.2.0"
        },
        "cb1e6617bd7e473da14dbeddb74ed3f9": {
          "model_module": "@jupyter-widgets/controls",
          "model_name": "FloatProgressModel",
          "state": {
            "_view_name": "ProgressView",
            "style": "IPY_MODEL_fb94b12881344c99a4e8ad58648588a4",
            "_dom_classes": [],
            "description": "Downloading: 100%",
            "_model_name": "FloatProgressModel",
            "bar_style": "success",
            "max": 231508,
            "_view_module": "@jupyter-widgets/controls",
            "_model_module_version": "1.5.0",
            "value": 231508,
            "_view_count": null,
            "_view_module_version": "1.5.0",
            "orientation": "horizontal",
            "min": 0,
            "description_tooltip": null,
            "_model_module": "@jupyter-widgets/controls",
            "layout": "IPY_MODEL_71dd4b49c16b4f059286c1398d627a6f"
          },
          "model_module_version": "1.5.0"
        },
        "923a39445aeb487db1fee91463479a08": {
          "model_module": "@jupyter-widgets/controls",
          "model_name": "HTMLModel",
          "state": {
            "_view_name": "HTMLView",
            "style": "IPY_MODEL_88df1499ca3740c6b3bf90fc3cf0fb59",
            "_dom_classes": [],
            "description": "",
            "_model_name": "HTMLModel",
            "placeholder": "​",
            "_view_module": "@jupyter-widgets/controls",
            "_model_module_version": "1.5.0",
            "value": " 232k/232k [00:00&lt;00:00, 615kB/s]",
            "_view_count": null,
            "_view_module_version": "1.5.0",
            "description_tooltip": null,
            "_model_module": "@jupyter-widgets/controls",
            "layout": "IPY_MODEL_dd3a11b1dce64fe681cdf986aef03560"
          },
          "model_module_version": "1.5.0"
        },
        "fb94b12881344c99a4e8ad58648588a4": {
          "model_module": "@jupyter-widgets/controls",
          "model_name": "ProgressStyleModel",
          "state": {
            "_view_name": "StyleView",
            "_model_name": "ProgressStyleModel",
            "description_width": "initial",
            "_view_module": "@jupyter-widgets/base",
            "_model_module_version": "1.5.0",
            "_view_count": null,
            "_view_module_version": "1.2.0",
            "bar_color": null,
            "_model_module": "@jupyter-widgets/controls"
          },
          "model_module_version": "1.5.0"
        },
        "71dd4b49c16b4f059286c1398d627a6f": {
          "model_module": "@jupyter-widgets/base",
          "model_name": "LayoutModel",
          "state": {
            "_view_name": "LayoutView",
            "grid_template_rows": null,
            "right": null,
            "justify_content": null,
            "_view_module": "@jupyter-widgets/base",
            "overflow": null,
            "_model_module_version": "1.2.0",
            "_view_count": null,
            "flex_flow": null,
            "width": null,
            "min_width": null,
            "border": null,
            "align_items": null,
            "bottom": null,
            "_model_module": "@jupyter-widgets/base",
            "top": null,
            "grid_column": null,
            "overflow_y": null,
            "overflow_x": null,
            "grid_auto_flow": null,
            "grid_area": null,
            "grid_template_columns": null,
            "flex": null,
            "_model_name": "LayoutModel",
            "justify_items": null,
            "grid_row": null,
            "max_height": null,
            "align_content": null,
            "visibility": null,
            "align_self": null,
            "height": null,
            "min_height": null,
            "padding": null,
            "grid_auto_rows": null,
            "grid_gap": null,
            "max_width": null,
            "order": null,
            "_view_module_version": "1.2.0",
            "grid_template_areas": null,
            "object_position": null,
            "object_fit": null,
            "grid_auto_columns": null,
            "margin": null,
            "display": null,
            "left": null
          },
          "model_module_version": "1.2.0"
        },
        "88df1499ca3740c6b3bf90fc3cf0fb59": {
          "model_module": "@jupyter-widgets/controls",
          "model_name": "DescriptionStyleModel",
          "state": {
            "_view_name": "StyleView",
            "_model_name": "DescriptionStyleModel",
            "description_width": "",
            "_view_module": "@jupyter-widgets/base",
            "_model_module_version": "1.5.0",
            "_view_count": null,
            "_view_module_version": "1.2.0",
            "_model_module": "@jupyter-widgets/controls"
          },
          "model_module_version": "1.5.0"
        },
        "dd3a11b1dce64fe681cdf986aef03560": {
          "model_module": "@jupyter-widgets/base",
          "model_name": "LayoutModel",
          "state": {
            "_view_name": "LayoutView",
            "grid_template_rows": null,
            "right": null,
            "justify_content": null,
            "_view_module": "@jupyter-widgets/base",
            "overflow": null,
            "_model_module_version": "1.2.0",
            "_view_count": null,
            "flex_flow": null,
            "width": null,
            "min_width": null,
            "border": null,
            "align_items": null,
            "bottom": null,
            "_model_module": "@jupyter-widgets/base",
            "top": null,
            "grid_column": null,
            "overflow_y": null,
            "overflow_x": null,
            "grid_auto_flow": null,
            "grid_area": null,
            "grid_template_columns": null,
            "flex": null,
            "_model_name": "LayoutModel",
            "justify_items": null,
            "grid_row": null,
            "max_height": null,
            "align_content": null,
            "visibility": null,
            "align_self": null,
            "height": null,
            "min_height": null,
            "padding": null,
            "grid_auto_rows": null,
            "grid_gap": null,
            "max_width": null,
            "order": null,
            "_view_module_version": "1.2.0",
            "grid_template_areas": null,
            "object_position": null,
            "object_fit": null,
            "grid_auto_columns": null,
            "margin": null,
            "display": null,
            "left": null
          },
          "model_module_version": "1.2.0"
        },
        "39a1c98e11e74597a1ecb5b98c3858ea": {
          "model_module": "@jupyter-widgets/controls",
          "model_name": "HBoxModel",
          "state": {
            "_view_name": "HBoxView",
            "_dom_classes": [],
            "_model_name": "HBoxModel",
            "_view_module": "@jupyter-widgets/controls",
            "_model_module_version": "1.5.0",
            "_view_count": null,
            "_view_module_version": "1.5.0",
            "box_style": "",
            "layout": "IPY_MODEL_67287137790949159d07338948bedd06",
            "_model_module": "@jupyter-widgets/controls",
            "children": [
              "IPY_MODEL_fe35e21393194651b6f6d55f3c0f1dac",
              "IPY_MODEL_ff121e9fdc634fa7ae1dafe655c7ebdc"
            ]
          },
          "model_module_version": "1.5.0"
        },
        "67287137790949159d07338948bedd06": {
          "model_module": "@jupyter-widgets/base",
          "model_name": "LayoutModel",
          "state": {
            "_view_name": "LayoutView",
            "grid_template_rows": null,
            "right": null,
            "justify_content": null,
            "_view_module": "@jupyter-widgets/base",
            "overflow": null,
            "_model_module_version": "1.2.0",
            "_view_count": null,
            "flex_flow": null,
            "width": null,
            "min_width": null,
            "border": null,
            "align_items": null,
            "bottom": null,
            "_model_module": "@jupyter-widgets/base",
            "top": null,
            "grid_column": null,
            "overflow_y": null,
            "overflow_x": null,
            "grid_auto_flow": null,
            "grid_area": null,
            "grid_template_columns": null,
            "flex": null,
            "_model_name": "LayoutModel",
            "justify_items": null,
            "grid_row": null,
            "max_height": null,
            "align_content": null,
            "visibility": null,
            "align_self": null,
            "height": null,
            "min_height": null,
            "padding": null,
            "grid_auto_rows": null,
            "grid_gap": null,
            "max_width": null,
            "order": null,
            "_view_module_version": "1.2.0",
            "grid_template_areas": null,
            "object_position": null,
            "object_fit": null,
            "grid_auto_columns": null,
            "margin": null,
            "display": null,
            "left": null
          },
          "model_module_version": "1.2.0"
        },
        "fe35e21393194651b6f6d55f3c0f1dac": {
          "model_module": "@jupyter-widgets/controls",
          "model_name": "FloatProgressModel",
          "state": {
            "_view_name": "ProgressView",
            "style": "IPY_MODEL_49246072d02e4b9ebd55e3ffb4818b1b",
            "_dom_classes": [],
            "description": "Downloading: 100%",
            "_model_name": "FloatProgressModel",
            "bar_style": "success",
            "max": 433,
            "_view_module": "@jupyter-widgets/controls",
            "_model_module_version": "1.5.0",
            "value": 433,
            "_view_count": null,
            "_view_module_version": "1.5.0",
            "orientation": "horizontal",
            "min": 0,
            "description_tooltip": null,
            "_model_module": "@jupyter-widgets/controls",
            "layout": "IPY_MODEL_bb471fa453774607bd24cf420ad93945"
          },
          "model_module_version": "1.5.0"
        },
        "ff121e9fdc634fa7ae1dafe655c7ebdc": {
          "model_module": "@jupyter-widgets/controls",
          "model_name": "HTMLModel",
          "state": {
            "_view_name": "HTMLView",
            "style": "IPY_MODEL_75878b7fb1c14afa9e7bd02f78456e97",
            "_dom_classes": [],
            "description": "",
            "_model_name": "HTMLModel",
            "placeholder": "​",
            "_view_module": "@jupyter-widgets/controls",
            "_model_module_version": "1.5.0",
            "value": " 433/433 [00:10&lt;00:00, 41.4B/s]",
            "_view_count": null,
            "_view_module_version": "1.5.0",
            "description_tooltip": null,
            "_model_module": "@jupyter-widgets/controls",
            "layout": "IPY_MODEL_5fe09fe3a7294bf4a08a959407e0630e"
          },
          "model_module_version": "1.5.0"
        },
        "49246072d02e4b9ebd55e3ffb4818b1b": {
          "model_module": "@jupyter-widgets/controls",
          "model_name": "ProgressStyleModel",
          "state": {
            "_view_name": "StyleView",
            "_model_name": "ProgressStyleModel",
            "description_width": "initial",
            "_view_module": "@jupyter-widgets/base",
            "_model_module_version": "1.5.0",
            "_view_count": null,
            "_view_module_version": "1.2.0",
            "bar_color": null,
            "_model_module": "@jupyter-widgets/controls"
          },
          "model_module_version": "1.5.0"
        },
        "bb471fa453774607bd24cf420ad93945": {
          "model_module": "@jupyter-widgets/base",
          "model_name": "LayoutModel",
          "state": {
            "_view_name": "LayoutView",
            "grid_template_rows": null,
            "right": null,
            "justify_content": null,
            "_view_module": "@jupyter-widgets/base",
            "overflow": null,
            "_model_module_version": "1.2.0",
            "_view_count": null,
            "flex_flow": null,
            "width": null,
            "min_width": null,
            "border": null,
            "align_items": null,
            "bottom": null,
            "_model_module": "@jupyter-widgets/base",
            "top": null,
            "grid_column": null,
            "overflow_y": null,
            "overflow_x": null,
            "grid_auto_flow": null,
            "grid_area": null,
            "grid_template_columns": null,
            "flex": null,
            "_model_name": "LayoutModel",
            "justify_items": null,
            "grid_row": null,
            "max_height": null,
            "align_content": null,
            "visibility": null,
            "align_self": null,
            "height": null,
            "min_height": null,
            "padding": null,
            "grid_auto_rows": null,
            "grid_gap": null,
            "max_width": null,
            "order": null,
            "_view_module_version": "1.2.0",
            "grid_template_areas": null,
            "object_position": null,
            "object_fit": null,
            "grid_auto_columns": null,
            "margin": null,
            "display": null,
            "left": null
          },
          "model_module_version": "1.2.0"
        },
        "75878b7fb1c14afa9e7bd02f78456e97": {
          "model_module": "@jupyter-widgets/controls",
          "model_name": "DescriptionStyleModel",
          "state": {
            "_view_name": "StyleView",
            "_model_name": "DescriptionStyleModel",
            "description_width": "",
            "_view_module": "@jupyter-widgets/base",
            "_model_module_version": "1.5.0",
            "_view_count": null,
            "_view_module_version": "1.2.0",
            "_model_module": "@jupyter-widgets/controls"
          },
          "model_module_version": "1.5.0"
        },
        "5fe09fe3a7294bf4a08a959407e0630e": {
          "model_module": "@jupyter-widgets/base",
          "model_name": "LayoutModel",
          "state": {
            "_view_name": "LayoutView",
            "grid_template_rows": null,
            "right": null,
            "justify_content": null,
            "_view_module": "@jupyter-widgets/base",
            "overflow": null,
            "_model_module_version": "1.2.0",
            "_view_count": null,
            "flex_flow": null,
            "width": null,
            "min_width": null,
            "border": null,
            "align_items": null,
            "bottom": null,
            "_model_module": "@jupyter-widgets/base",
            "top": null,
            "grid_column": null,
            "overflow_y": null,
            "overflow_x": null,
            "grid_auto_flow": null,
            "grid_area": null,
            "grid_template_columns": null,
            "flex": null,
            "_model_name": "LayoutModel",
            "justify_items": null,
            "grid_row": null,
            "max_height": null,
            "align_content": null,
            "visibility": null,
            "align_self": null,
            "height": null,
            "min_height": null,
            "padding": null,
            "grid_auto_rows": null,
            "grid_gap": null,
            "max_width": null,
            "order": null,
            "_view_module_version": "1.2.0",
            "grid_template_areas": null,
            "object_position": null,
            "object_fit": null,
            "grid_auto_columns": null,
            "margin": null,
            "display": null,
            "left": null
          },
          "model_module_version": "1.2.0"
        },
        "b1fed3ca787b416f90db0c9aec1ef0c1": {
          "model_module": "@jupyter-widgets/controls",
          "model_name": "HBoxModel",
          "state": {
            "_view_name": "HBoxView",
            "_dom_classes": [],
            "_model_name": "HBoxModel",
            "_view_module": "@jupyter-widgets/controls",
            "_model_module_version": "1.5.0",
            "_view_count": null,
            "_view_module_version": "1.5.0",
            "box_style": "",
            "layout": "IPY_MODEL_232b1bafd80a49629c4c5708e2daaede",
            "_model_module": "@jupyter-widgets/controls",
            "children": [
              "IPY_MODEL_0fc7753085744643b5aed6ad8e8fa4d3",
              "IPY_MODEL_bda275d960504b4ead8fc14c7366c479"
            ]
          },
          "model_module_version": "1.5.0"
        },
        "232b1bafd80a49629c4c5708e2daaede": {
          "model_module": "@jupyter-widgets/base",
          "model_name": "LayoutModel",
          "state": {
            "_view_name": "LayoutView",
            "grid_template_rows": null,
            "right": null,
            "justify_content": null,
            "_view_module": "@jupyter-widgets/base",
            "overflow": null,
            "_model_module_version": "1.2.0",
            "_view_count": null,
            "flex_flow": null,
            "width": null,
            "min_width": null,
            "border": null,
            "align_items": null,
            "bottom": null,
            "_model_module": "@jupyter-widgets/base",
            "top": null,
            "grid_column": null,
            "overflow_y": null,
            "overflow_x": null,
            "grid_auto_flow": null,
            "grid_area": null,
            "grid_template_columns": null,
            "flex": null,
            "_model_name": "LayoutModel",
            "justify_items": null,
            "grid_row": null,
            "max_height": null,
            "align_content": null,
            "visibility": null,
            "align_self": null,
            "height": null,
            "min_height": null,
            "padding": null,
            "grid_auto_rows": null,
            "grid_gap": null,
            "max_width": null,
            "order": null,
            "_view_module_version": "1.2.0",
            "grid_template_areas": null,
            "object_position": null,
            "object_fit": null,
            "grid_auto_columns": null,
            "margin": null,
            "display": null,
            "left": null
          },
          "model_module_version": "1.2.0"
        },
        "0fc7753085744643b5aed6ad8e8fa4d3": {
          "model_module": "@jupyter-widgets/controls",
          "model_name": "FloatProgressModel",
          "state": {
            "_view_name": "ProgressView",
            "style": "IPY_MODEL_9ea144e7764b4b34b374fb5528690ee0",
            "_dom_classes": [],
            "description": "Downloading: 100%",
            "_model_name": "FloatProgressModel",
            "bar_style": "success",
            "max": 440473133,
            "_view_module": "@jupyter-widgets/controls",
            "_model_module_version": "1.5.0",
            "value": 440473133,
            "_view_count": null,
            "_view_module_version": "1.5.0",
            "orientation": "horizontal",
            "min": 0,
            "description_tooltip": null,
            "_model_module": "@jupyter-widgets/controls",
            "layout": "IPY_MODEL_96d6a99f4d2e4ae6a0307d2581f6740f"
          },
          "model_module_version": "1.5.0"
        },
        "bda275d960504b4ead8fc14c7366c479": {
          "model_module": "@jupyter-widgets/controls",
          "model_name": "HTMLModel",
          "state": {
            "_view_name": "HTMLView",
            "style": "IPY_MODEL_8916e70f1b974027be49c03a9d0bb1a6",
            "_dom_classes": [],
            "description": "",
            "_model_name": "HTMLModel",
            "placeholder": "​",
            "_view_module": "@jupyter-widgets/controls",
            "_model_module_version": "1.5.0",
            "value": " 440M/440M [00:09&lt;00:00, 45.6MB/s]",
            "_view_count": null,
            "_view_module_version": "1.5.0",
            "description_tooltip": null,
            "_model_module": "@jupyter-widgets/controls",
            "layout": "IPY_MODEL_d947413e27b549ddaa51c08534b97121"
          },
          "model_module_version": "1.5.0"
        },
        "9ea144e7764b4b34b374fb5528690ee0": {
          "model_module": "@jupyter-widgets/controls",
          "model_name": "ProgressStyleModel",
          "state": {
            "_view_name": "StyleView",
            "_model_name": "ProgressStyleModel",
            "description_width": "initial",
            "_view_module": "@jupyter-widgets/base",
            "_model_module_version": "1.5.0",
            "_view_count": null,
            "_view_module_version": "1.2.0",
            "bar_color": null,
            "_model_module": "@jupyter-widgets/controls"
          },
          "model_module_version": "1.5.0"
        },
        "96d6a99f4d2e4ae6a0307d2581f6740f": {
          "model_module": "@jupyter-widgets/base",
          "model_name": "LayoutModel",
          "state": {
            "_view_name": "LayoutView",
            "grid_template_rows": null,
            "right": null,
            "justify_content": null,
            "_view_module": "@jupyter-widgets/base",
            "overflow": null,
            "_model_module_version": "1.2.0",
            "_view_count": null,
            "flex_flow": null,
            "width": null,
            "min_width": null,
            "border": null,
            "align_items": null,
            "bottom": null,
            "_model_module": "@jupyter-widgets/base",
            "top": null,
            "grid_column": null,
            "overflow_y": null,
            "overflow_x": null,
            "grid_auto_flow": null,
            "grid_area": null,
            "grid_template_columns": null,
            "flex": null,
            "_model_name": "LayoutModel",
            "justify_items": null,
            "grid_row": null,
            "max_height": null,
            "align_content": null,
            "visibility": null,
            "align_self": null,
            "height": null,
            "min_height": null,
            "padding": null,
            "grid_auto_rows": null,
            "grid_gap": null,
            "max_width": null,
            "order": null,
            "_view_module_version": "1.2.0",
            "grid_template_areas": null,
            "object_position": null,
            "object_fit": null,
            "grid_auto_columns": null,
            "margin": null,
            "display": null,
            "left": null
          },
          "model_module_version": "1.2.0"
        },
        "8916e70f1b974027be49c03a9d0bb1a6": {
          "model_module": "@jupyter-widgets/controls",
          "model_name": "DescriptionStyleModel",
          "state": {
            "_view_name": "StyleView",
            "_model_name": "DescriptionStyleModel",
            "description_width": "",
            "_view_module": "@jupyter-widgets/base",
            "_model_module_version": "1.5.0",
            "_view_count": null,
            "_view_module_version": "1.2.0",
            "_model_module": "@jupyter-widgets/controls"
          },
          "model_module_version": "1.5.0"
        },
        "d947413e27b549ddaa51c08534b97121": {
          "model_module": "@jupyter-widgets/base",
          "model_name": "LayoutModel",
          "state": {
            "_view_name": "LayoutView",
            "grid_template_rows": null,
            "right": null,
            "justify_content": null,
            "_view_module": "@jupyter-widgets/base",
            "overflow": null,
            "_model_module_version": "1.2.0",
            "_view_count": null,
            "flex_flow": null,
            "width": null,
            "min_width": null,
            "border": null,
            "align_items": null,
            "bottom": null,
            "_model_module": "@jupyter-widgets/base",
            "top": null,
            "grid_column": null,
            "overflow_y": null,
            "overflow_x": null,
            "grid_auto_flow": null,
            "grid_area": null,
            "grid_template_columns": null,
            "flex": null,
            "_model_name": "LayoutModel",
            "justify_items": null,
            "grid_row": null,
            "max_height": null,
            "align_content": null,
            "visibility": null,
            "align_self": null,
            "height": null,
            "min_height": null,
            "padding": null,
            "grid_auto_rows": null,
            "grid_gap": null,
            "max_width": null,
            "order": null,
            "_view_module_version": "1.2.0",
            "grid_template_areas": null,
            "object_position": null,
            "object_fit": null,
            "grid_auto_columns": null,
            "margin": null,
            "display": null,
            "left": null
          },
          "model_module_version": "1.2.0"
        }
      }
    }
  },
  "cells": [
    {
      "cell_type": "markdown",
      "metadata": {
        "id": "view-in-github",
        "colab_type": "text"
      },
      "source": [
        "<a href=\"https://colab.research.google.com/github/nabilaAmir/python-codes-/blob/main/Bert_result.ipynb\" target=\"_parent\"><img src=\"https://colab.research.google.com/assets/colab-badge.svg\" alt=\"Open In Colab\"/></a>"
      ]
    },
    {
      "cell_type": "code",
      "metadata": {
        "colab": {
          "base_uri": "https://localhost:8080/"
        },
        "id": "iLj-bNSSTBUI",
        "outputId": "ae673998-25c9-44f6-c07c-af8037b76961"
      },
      "source": [
        "!pip install transformers"
      ],
      "execution_count": null,
      "outputs": [
        {
          "output_type": "stream",
          "text": [
            "Collecting transformers\n",
            "\u001b[?25l  Downloading https://files.pythonhosted.org/packages/98/87/ef312eef26f5cecd8b17ae9654cdd8d1fae1eb6dbd87257d6d73c128a4d0/transformers-4.3.2-py3-none-any.whl (1.8MB)\n",
            "\u001b[K     |████████████████████████████████| 1.8MB 9.3MB/s \n",
            "\u001b[?25hRequirement already satisfied: tqdm>=4.27 in /usr/local/lib/python3.7/dist-packages (from transformers) (4.41.1)\n",
            "Collecting tokenizers<0.11,>=0.10.1\n",
            "\u001b[?25l  Downloading https://files.pythonhosted.org/packages/71/23/2ddc317b2121117bf34dd00f5b0de194158f2a44ee2bf5e47c7166878a97/tokenizers-0.10.1-cp37-cp37m-manylinux2010_x86_64.whl (3.2MB)\n",
            "\u001b[K     |████████████████████████████████| 3.2MB 33.6MB/s \n",
            "\u001b[?25hRequirement already satisfied: filelock in /usr/local/lib/python3.7/dist-packages (from transformers) (3.0.12)\n",
            "Requirement already satisfied: requests in /usr/local/lib/python3.7/dist-packages (from transformers) (2.23.0)\n",
            "Requirement already satisfied: importlib-metadata; python_version < \"3.8\" in /usr/local/lib/python3.7/dist-packages (from transformers) (3.4.0)\n",
            "Requirement already satisfied: numpy>=1.17 in /usr/local/lib/python3.7/dist-packages (from transformers) (1.19.5)\n",
            "Collecting sacremoses\n",
            "\u001b[?25l  Downloading https://files.pythonhosted.org/packages/7d/34/09d19aff26edcc8eb2a01bed8e98f13a1537005d31e95233fd48216eed10/sacremoses-0.0.43.tar.gz (883kB)\n",
            "\u001b[K     |████████████████████████████████| 890kB 47.0MB/s \n",
            "\u001b[?25hRequirement already satisfied: regex!=2019.12.17 in /usr/local/lib/python3.7/dist-packages (from transformers) (2019.12.20)\n",
            "Requirement already satisfied: packaging in /usr/local/lib/python3.7/dist-packages (from transformers) (20.9)\n",
            "Requirement already satisfied: certifi>=2017.4.17 in /usr/local/lib/python3.7/dist-packages (from requests->transformers) (2020.12.5)\n",
            "Requirement already satisfied: idna<3,>=2.5 in /usr/local/lib/python3.7/dist-packages (from requests->transformers) (2.10)\n",
            "Requirement already satisfied: chardet<4,>=3.0.2 in /usr/local/lib/python3.7/dist-packages (from requests->transformers) (3.0.4)\n",
            "Requirement already satisfied: urllib3!=1.25.0,!=1.25.1,<1.26,>=1.21.1 in /usr/local/lib/python3.7/dist-packages (from requests->transformers) (1.24.3)\n",
            "Requirement already satisfied: zipp>=0.5 in /usr/local/lib/python3.7/dist-packages (from importlib-metadata; python_version < \"3.8\"->transformers) (3.4.0)\n",
            "Requirement already satisfied: typing-extensions>=3.6.4; python_version < \"3.8\" in /usr/local/lib/python3.7/dist-packages (from importlib-metadata; python_version < \"3.8\"->transformers) (3.7.4.3)\n",
            "Requirement already satisfied: six in /usr/local/lib/python3.7/dist-packages (from sacremoses->transformers) (1.15.0)\n",
            "Requirement already satisfied: click in /usr/local/lib/python3.7/dist-packages (from sacremoses->transformers) (7.1.2)\n",
            "Requirement already satisfied: joblib in /usr/local/lib/python3.7/dist-packages (from sacremoses->transformers) (1.0.1)\n",
            "Requirement already satisfied: pyparsing>=2.0.2 in /usr/local/lib/python3.7/dist-packages (from packaging->transformers) (2.4.7)\n",
            "Building wheels for collected packages: sacremoses\n",
            "  Building wheel for sacremoses (setup.py) ... \u001b[?25l\u001b[?25hdone\n",
            "  Created wheel for sacremoses: filename=sacremoses-0.0.43-cp37-none-any.whl size=893262 sha256=9c40c5e53ca915d4d8dde09e8e125f362cbf0d3b214f052b5419df77783cf3be\n",
            "  Stored in directory: /root/.cache/pip/wheels/29/3c/fd/7ce5c3f0666dab31a50123635e6fb5e19ceb42ce38d4e58f45\n",
            "Successfully built sacremoses\n",
            "Installing collected packages: tokenizers, sacremoses, transformers\n",
            "Successfully installed sacremoses-0.0.43 tokenizers-0.10.1 transformers-4.3.2\n"
          ],
          "name": "stdout"
        }
      ]
    },
    {
      "cell_type": "code",
      "metadata": {
        "colab": {
          "base_uri": "https://localhost:8080/",
          "height": 66,
          "referenced_widgets": [
            "2fe6e1e6ff34415f80da57c117c72450",
            "af196c73451440aeb1718f040b7c3558",
            "cb1e6617bd7e473da14dbeddb74ed3f9",
            "923a39445aeb487db1fee91463479a08",
            "fb94b12881344c99a4e8ad58648588a4",
            "71dd4b49c16b4f059286c1398d627a6f",
            "88df1499ca3740c6b3bf90fc3cf0fb59",
            "dd3a11b1dce64fe681cdf986aef03560"
          ]
        },
        "id": "23EGMBLITTqc",
        "outputId": "9539946a-38b0-44b8-ac37-7f06e1d95232"
      },
      "source": [
        "import torch\n",
        "from transformers import BertTokenizer, BertModel\n",
        "from scipy.spatial.distance import cosine\n",
        "import matplotlib.pyplot as plt\n",
        "import json\n",
        "import io\n",
        "# Load pre-trained model tokenizer (vocabulary)\n",
        "tokenizer = BertTokenizer.from_pretrained('bert-base-uncased')\n",
        "# %matplotlib inline\n",
        "\n",
        "# OPTIONAL: if you want to have more information on what's happening, activate the logger as follows\n",
        "# import logging\n",
        "# logging.basicConfig(level=logging.INFO)"
      ],
      "execution_count": null,
      "outputs": [
        {
          "output_type": "display_data",
          "data": {
            "application/vnd.jupyter.widget-view+json": {
              "model_id": "2fe6e1e6ff34415f80da57c117c72450",
              "version_minor": 0,
              "version_major": 2
            },
            "text/plain": [
              "HBox(children=(FloatProgress(value=0.0, description='Downloading', max=231508.0, style=ProgressStyle(descripti…"
            ]
          },
          "metadata": {
            "tags": []
          }
        },
        {
          "output_type": "stream",
          "text": [
            "\n"
          ],
          "name": "stdout"
        }
      ]
    },
    {
      "cell_type": "code",
      "metadata": {
        "colab": {
          "base_uri": "https://localhost:8080/",
          "height": 115,
          "referenced_widgets": [
            "39a1c98e11e74597a1ecb5b98c3858ea",
            "67287137790949159d07338948bedd06",
            "fe35e21393194651b6f6d55f3c0f1dac",
            "ff121e9fdc634fa7ae1dafe655c7ebdc",
            "49246072d02e4b9ebd55e3ffb4818b1b",
            "bb471fa453774607bd24cf420ad93945",
            "75878b7fb1c14afa9e7bd02f78456e97",
            "5fe09fe3a7294bf4a08a959407e0630e",
            "b1fed3ca787b416f90db0c9aec1ef0c1",
            "232b1bafd80a49629c4c5708e2daaede",
            "0fc7753085744643b5aed6ad8e8fa4d3",
            "bda275d960504b4ead8fc14c7366c479",
            "9ea144e7764b4b34b374fb5528690ee0",
            "96d6a99f4d2e4ae6a0307d2581f6740f",
            "8916e70f1b974027be49c03a9d0bb1a6",
            "d947413e27b549ddaa51c08534b97121"
          ]
        },
        "id": "nCi-FbRrTcVt",
        "outputId": "9b5fd56b-0f12-4890-9bfd-6ca9aababd3a"
      },
      "source": [
        "# Load pre-trained model (weights)\n",
        "model = BertModel.from_pretrained('bert-base-uncased',\n",
        "                                  output_hidden_states = True, # Whether the model returns all hidden-states.\n",
        "                                  )"
      ],
      "execution_count": null,
      "outputs": [
        {
          "output_type": "display_data",
          "data": {
            "application/vnd.jupyter.widget-view+json": {
              "model_id": "39a1c98e11e74597a1ecb5b98c3858ea",
              "version_minor": 0,
              "version_major": 2
            },
            "text/plain": [
              "HBox(children=(FloatProgress(value=0.0, description='Downloading', max=433.0, style=ProgressStyle(description_…"
            ]
          },
          "metadata": {
            "tags": []
          }
        },
        {
          "output_type": "stream",
          "text": [
            "\n"
          ],
          "name": "stdout"
        },
        {
          "output_type": "display_data",
          "data": {
            "application/vnd.jupyter.widget-view+json": {
              "model_id": "b1fed3ca787b416f90db0c9aec1ef0c1",
              "version_minor": 0,
              "version_major": 2
            },
            "text/plain": [
              "HBox(children=(FloatProgress(value=0.0, description='Downloading', max=440473133.0, style=ProgressStyle(descri…"
            ]
          },
          "metadata": {
            "tags": []
          }
        },
        {
          "output_type": "stream",
          "text": [
            "\n"
          ],
          "name": "stdout"
        }
      ]
    },
    {
      "cell_type": "code",
      "metadata": {
        "id": "8RRSXudCTkUq"
      },
      "source": [
        "import nltk\n",
        "from nltk.tokenize import word_tokenize\n",
        "from nltk import sent_tokenize\n",
        "# split into words\n",
        "from nltk.tokenize import word_tokenize"
      ],
      "execution_count": null,
      "outputs": []
    },
    {
      "cell_type": "code",
      "metadata": {
        "colab": {
          "base_uri": "https://localhost:8080/"
        },
        "id": "FJ7Tzg1MTqdS",
        "outputId": "5e958dc8-89f2-49ca-ced2-6767b799a8be"
      },
      "source": [
        "nltk.download('punkt')\n",
        "\n",
        "from nltk import word_tokenize,sent_tokenize"
      ],
      "execution_count": null,
      "outputs": [
        {
          "output_type": "stream",
          "text": [
            "[nltk_data] Downloading package punkt to /root/nltk_data...\n",
            "[nltk_data]   Unzipping tokenizers/punkt.zip.\n"
          ],
          "name": "stdout"
        }
      ]
    },
    {
      "cell_type": "code",
      "metadata": {
        "colab": {
          "base_uri": "https://localhost:8080/"
        },
        "id": "yeh3T3RJTw1S",
        "outputId": "c2cba17a-841d-4076-9a9f-e8d2ca8c05f6"
      },
      "source": [
        "from nltk.corpus import stopwords\n",
        "stop_words=nltk.download('stopwords')"
      ],
      "execution_count": null,
      "outputs": [
        {
          "output_type": "stream",
          "text": [
            "[nltk_data] Downloading package stopwords to /root/nltk_data...\n",
            "[nltk_data]   Unzipping corpora/stopwords.zip.\n"
          ],
          "name": "stdout"
        }
      ]
    },
    {
      "cell_type": "code",
      "metadata": {
        "id": "Hp98Fw4GT3ob"
      },
      "source": [
        "stop_words = list(stopwords.words('english'))\n",
        "#stopword = list(stopwords.words('english'))\n",
        "#l = ['maggi','maggie','#maggi','#maggie']\n",
        "#stopword = stopword + l\n",
        "#print(stopword)\n",
        "newStopWords = ['well','able','about','need','require','possible','poorly','possibly','potentially','present','presents','presented','primarily','primarily','provided','provides','put','rather','recently','regarding','regardless','related','research','This','respectively','results','resulting','second','secondly','several','show','shows','showed','shown','significantly','significant','since','slightly','somewhat','specifically','states','still','substantially','suggest','suggests','suggested','system','take','takes','taken','than','that','That','these','These','they','those','thousand','two','real','throughout','through','thus','till','toward','towards','trying','under','unfortunately','until','usefulness','value','where','while','within','words','would','Most',                'requires','using','In','for','needs','novel','obtained','only','otherwise','particular','poorly','provides','provide','found','information','mainly','makes','many','various','recent','year','years','merely','million','billion','most','mostly','much','namely','necessary','further','furthermore','getting','gets','give','gives','got','has','have','hence','however','ignored','ignore','importance','indicate','indicates','important','above','accordance','\taccording','accordingly','across','added','adopted','\taffects','after','afterwards','against','all','\tallow','almost','also','although','among','\tamount','\tamongst','and','another','apart','appear','apparently','appropriate','approximately','are','around','associated','available','because','before','beside','besides','best','beyond','between','briefly','brief','cannot','can','changes','come','concerning','consequently','therefore','considering','contain','contains','corresponding','correspond','could','currently','describe','despite','different','did','do','does','due','each','effect','affect','enough','entirely','entire','especially','find','followed','following','formerly','about','keep','keeps','according','accordance','knows', 'This','time','problem','found','The','step','obtain','three','We', 'paper','Paper','form','from','meet','meets','illustrate','beyond','known','it','It','last','recent','results','reveal','show','again','against','afterwards','also','moreover','like','makes','many','different','although','always','however','but','much','available','both','by','come','contains','therefore','do','does','during','especially','every','enough','particular','provide','provides','give','given','gives','hence','important','necessary','similar','similarly','still','sufficient','great','influence']\n",
        "for i in newStopWords:\n",
        "    stop_words.append(i)\n",
        "import re"
      ],
      "execution_count": null,
      "outputs": []
    },
    {
      "cell_type": "code",
      "metadata": {
        "id": "x_MZyYPtT9sp"
      },
      "source": [
        "#import codecs\n",
        "import json\n",
        "import io\n",
        "data=json.load(io.open('Mind_dataset.json', 'r', encoding='utf-8-sig'))\n",
        "#with codecs.open('Mind_dataset.json', 'r', encoding=\"utf-8\") as f:\n",
        "  #data = json.load(f)"
      ],
      "execution_count": null,
      "outputs": []
    },
    {
      "cell_type": "code",
      "metadata": {
        "id": "EaMEavk_VBSP"
      },
      "source": [
        "import tensorflow as tf\n",
        "import numpy as np\n",
        "y_list = []\n",
        "ids_list= []\n",
        "i=0\n",
        "while i<len(data):\n",
        "#while i<1:\n",
        "  max_seq_length = 512\n",
        "  paper_data=data[i]\n",
        "  paper_Abstract=paper_data['Abstract']\n",
        "  paper_Abstract = (paper_Abstract[:3000] + '..')\n",
        "  #if len(paper_Abstract)>500 and language=='en':\n",
        "   # paper_Abstract = (paper_Abstract[:3000] + '..')\n",
        "  word_tokens = word_tokenize(paper_Abstract)\n",
        "\n",
        "  filtered_sentence = [w for w in word_tokens if not w in stop_words]\n",
        "\n",
        "  filtered_sentence = []\n",
        "\n",
        "  for w in word_tokens:\n",
        "    if w not in stop_words:\n",
        "      filtered_sentence.append(w)\n",
        "\n",
        "  output = str(filtered_sentence)\n",
        "  output=output.strip(\"[ ]\")\n",
        "  output=output.strip(\"' '\")\n",
        "  re.sub(r'(?!(([^\"]*\"){2})*[^\"]*$),', \"\", output)\n",
        "  re.sub(r'\"[^\"]*\"', lambda m: m.group(0).replace(',',''), output)\n",
        "  output = output.replace(\"'\",\"\")\n",
        "  output1 = output.replace(\",\",\"\")\n",
        "  abstract_text=re.sub(r\" ?\\([^)]+\\)\", \"\", output1)\n",
        "# Add the special tokens.\n",
        "  marked_text = \"[CLS] \" + abstract_text +\" [SEP]\"\n",
        "# Split the sentence into tokens.\n",
        "  tokenized_text = tokenizer.tokenize(marked_text)\n",
        "# Map the token strings to their vocabulary indeces.\n",
        "  indexed_tokens = tokenizer.convert_tokens_to_ids(tokenized_text)\n",
        "  if len(indexed_tokens) > 500:\n",
        "    indexed_tokens = indexed_tokens[:(max_seq_length - 10)]\n",
        "    #indexed_tokens = (indexed_tokens[:510] + '..')\n",
        "# Mark each of the 22 tokens as belonging to sentence \"1\".\n",
        "  segments_ids = [1] * len(tokenized_text)\n",
        "# Convert inputs to PyTorch tensors\n",
        "  tokens_tensor = torch.tensor([indexed_tokens])\n",
        "  segments_tensors = torch.tensor([segments_ids])\n",
        "# Put the model in \"evaluation\" mode, meaning feed-forward operation.\n",
        "  model.eval()\n",
        "\n",
        "# Run the text through BERT, and collect all of the hidden states produced\n",
        "  with torch.no_grad():\n",
        "      outputs = model(tokens_tensor, segments_tensors)\n",
        "      hidden_states = outputs[2]\n",
        "\n",
        "  token_embeddings = torch.stack(hidden_states, dim=0)\n",
        "# Remove dimension 1, the \"batches\".\n",
        "  token_embeddings = torch.squeeze(token_embeddings, dim=1)\n",
        "# Swap dimensions 0 and 1.\n",
        "  token_embeddings = token_embeddings.permute(1,0,2)\n",
        "# Stores the token vectors, with shape [22 x 768]\n",
        "  token_vecs_sum = []\n",
        "# For each token in the sentence...\n",
        "  for token in token_embeddings:\n",
        "    # `token` is a [12 x 768] tensor\n",
        "\n",
        "    # Sum the vectors from the last four layers.\n",
        "      sum_vec = torch.sum(token[-4:], dim=0)\n",
        "\n",
        "    # Use `sum_vec` to represent `token`.\n",
        "      token_vecs_sum.append(sum_vec)\n",
        "# `token_vecs` is a tensor with shape [22 x 768]\n",
        "  token_vecs = hidden_states[-2][0]\n",
        "#token_vecs2 = hidden_states[-6][0]\n",
        "\n",
        "# Calculate the average of all 22 token vectors.\n",
        "  sentence_embedding = torch.mean(token_vecs, dim=0)\n",
        "  # print(sentence_embedding)\n",
        "  y_list.append(sentence_embedding)\n",
        "  ids_list.append(paper_data['id'])\n",
        "  i=i+1\n",
        "\n"
      ],
      "execution_count": null,
      "outputs": []
    },
    {
      "cell_type": "code",
      "metadata": {
        "colab": {
          "base_uri": "https://localhost:8080/"
        },
        "id": "J-NP7vIiVX6o",
        "outputId": "25508943-12b5-4586-fec2-ee779476e43f"
      },
      "source": [
        "print(ids_list[0])\n",
        "print(y_list[0])"
      ],
      "execution_count": null,
      "outputs": [
        {
          "output_type": "stream",
          "text": [
            "N88753\n",
            "tensor([ 5.5207e-01, -2.0130e-01,  9.1407e-01, -2.5093e-01,  2.9851e-01,\n",
            "        -4.9025e-01, -2.0465e-02, -4.2026e-01, -1.2633e-01, -4.0398e-02,\n",
            "        -1.2085e-01, -1.1418e-01, -2.4232e-01,  1.0129e-01, -3.4339e-01,\n",
            "         5.5528e-01, -1.4585e-01,  4.0517e-01, -5.9505e-01,  3.2793e-01,\n",
            "         4.9243e-01,  3.5403e-01, -1.4863e-01,  1.1211e-01,  5.5581e-01,\n",
            "         9.5116e-03,  6.3436e-02, -5.3035e-01,  1.4585e-01,  1.6811e-01,\n",
            "         9.1815e-01,  4.2981e-01,  3.6551e-01, -3.6338e-01,  3.2042e-01,\n",
            "        -4.9964e-01, -4.8709e-01, -1.6620e-01,  4.0670e-02,  2.6005e-01,\n",
            "        -5.9320e-01, -3.9129e-01,  2.7027e-01, -1.9529e-01,  2.4791e-02,\n",
            "        -8.5172e-02, -1.1368e-01, -2.5673e-01,  2.9029e-01, -1.1164e-01,\n",
            "        -5.8472e-01, -2.3970e-01, -3.6285e-01, -4.0847e-01,  6.8930e-01,\n",
            "         8.9999e-02,  6.1885e-02, -5.1735e-01, -3.5798e-01, -4.2988e-02,\n",
            "        -3.2106e-01, -2.5574e-01, -5.6341e-02,  9.6466e-02,  3.4540e-02,\n",
            "        -1.0873e-01,  3.2835e-01,  8.3354e-02, -6.3156e-01,  1.7382e-01,\n",
            "         6.8648e-01, -4.1139e-01,  4.7299e-01, -1.5680e-01, -1.7686e-01,\n",
            "        -1.5437e-01, -3.3897e-01,  6.4965e-01,  4.2299e-01, -4.8823e-01,\n",
            "         1.1059e-02,  3.0560e-01, -6.7503e-02,  3.0210e-01,  4.0880e-04,\n",
            "         4.9498e-01,  6.2375e-01,  1.5618e-01, -5.9818e-01,  6.7046e-01,\n",
            "        -1.6916e-01, -2.9972e-01,  5.0958e-02, -1.0470e-01,  4.8484e-01,\n",
            "        -3.2270e-01, -1.0656e+00,  3.0693e-01,  9.8487e-02,  2.6257e-02,\n",
            "         5.2013e-01,  3.2542e-02,  5.0701e-01, -1.5377e-01, -7.3084e-03,\n",
            "        -2.1581e-01, -4.7570e-01,  8.8075e-02,  5.8852e-02,  7.8363e-02,\n",
            "         2.8313e-01, -4.3092e-01,  1.6287e-01, -5.0801e-01,  1.4236e-01,\n",
            "         1.1345e-02, -3.9382e-01,  3.5926e-01,  2.2655e-01,  1.3634e-01,\n",
            "        -5.0334e-01,  5.0512e-02,  4.5477e-01,  2.9849e-01,  1.9033e-01,\n",
            "         4.6278e-02, -4.8833e-02,  4.1124e-02,  1.0689e-01,  2.9895e-01,\n",
            "         1.7318e-02,  4.1238e-01, -6.6475e-01, -2.6328e-01, -6.9496e-02,\n",
            "         6.8546e-01, -2.0681e-02, -8.1124e-02,  1.2441e-01, -2.3402e-01,\n",
            "        -2.2799e-01,  7.8366e-01, -2.6858e-02,  4.9558e-01,  3.2187e-01,\n",
            "        -3.1993e-01, -5.6232e-01, -8.9334e-02, -1.7962e-01,  2.8306e-01,\n",
            "        -1.2437e-01, -2.2243e-01, -3.9336e-01, -2.8707e-02, -2.0838e-01,\n",
            "        -5.5662e-01, -1.9098e-01, -6.5664e-02,  5.5021e-02, -8.6425e-02,\n",
            "         4.5121e-01,  2.8228e-01,  5.6547e-02,  6.3596e-01,  6.4445e-01,\n",
            "         2.4664e-01, -6.2251e-01,  4.3971e-01, -9.1886e-02,  2.5014e-02,\n",
            "         3.8897e-01, -3.6374e-01,  5.3187e-01, -1.9640e-01,  1.2140e-01,\n",
            "         2.6312e-01,  8.7981e-02,  2.7441e-01, -4.1145e-02,  8.4407e-01,\n",
            "        -4.0769e-01,  2.3830e-01, -1.0135e-03, -1.2451e-01,  6.5944e-01,\n",
            "         3.6262e-01,  1.5266e-01, -2.3869e-01,  3.3067e-02, -2.8374e-01,\n",
            "        -1.5745e-01, -7.5227e-02,  3.2185e-01, -2.4688e-01,  1.9996e-01,\n",
            "        -3.0491e-01, -1.5172e-01, -4.5689e-02, -1.2063e-01, -2.5982e-01,\n",
            "         1.2907e-01, -1.4097e-03,  3.7214e-01,  6.9781e-02,  1.0229e-01,\n",
            "         5.5374e-01,  3.2889e-01, -4.7924e-01, -4.3997e-01,  1.2161e-01,\n",
            "         1.0950e-01,  1.4791e-01,  1.6352e-01,  3.9172e-01, -2.5317e-01,\n",
            "        -1.1177e-01, -2.7114e-01, -2.2606e-01, -1.5754e-02, -6.5483e-02,\n",
            "         7.8164e-03,  3.0996e-01, -4.3928e-01,  1.0621e-01, -6.1221e-01,\n",
            "         1.2830e+00,  2.6641e-01, -1.4105e+00,  4.0559e-01,  1.0217e-01,\n",
            "        -2.2947e-01, -9.4744e-02, -1.2929e-01, -5.1347e-01, -3.4399e-02,\n",
            "         1.4283e-01,  8.7141e-02, -2.4741e-01, -2.3245e-01,  1.5479e-01,\n",
            "        -4.1465e-01, -1.7014e-01,  3.8663e-01,  3.6361e-01,  2.1230e-01,\n",
            "         3.5980e-01, -4.3436e-02, -7.2912e-01,  4.2268e-02, -3.1999e-02,\n",
            "        -4.2307e-01,  7.4145e-01, -7.7881e-02, -1.1642e-01, -1.3760e-01,\n",
            "        -8.2638e-02, -1.1283e-01,  8.8992e-02,  3.9809e-02,  5.1232e-01,\n",
            "         1.3352e-01,  3.7661e-01,  3.5968e-01,  1.3576e-01,  9.4365e-02,\n",
            "        -5.8647e-01,  3.1133e-02,  4.3664e-01,  7.5023e-01, -3.8864e-01,\n",
            "        -1.8117e-01, -5.4756e-02, -3.6612e-01,  4.7486e-01, -3.7680e-01,\n",
            "         9.6694e-02,  6.4155e-01,  5.6703e-01,  5.2639e-01, -9.1057e-01,\n",
            "        -1.1021e-02,  7.3882e-01,  4.2378e-01,  1.6795e-01, -7.3448e-02,\n",
            "        -4.2622e-01,  2.3681e-01, -4.8913e-02, -1.8134e-01, -1.2915e-01,\n",
            "         2.3863e-01,  4.3026e-01, -3.9882e-01, -3.3901e-01,  7.0127e-01,\n",
            "         2.2841e-01,  1.4781e-01, -2.7095e-01,  2.2096e-02, -2.2359e-01,\n",
            "        -3.6929e-01,  3.2144e-01,  9.5795e-02,  2.7597e-02,  1.2223e+00,\n",
            "         2.0067e-01,  1.4877e-02, -7.9831e-01, -9.2692e+00, -3.1395e-01,\n",
            "         3.1430e-02,  5.4619e-02,  3.4501e-01, -4.3778e-01,  3.2395e-01,\n",
            "        -6.1677e-02, -5.9006e-01, -4.1411e-01,  1.7809e-01,  1.8700e-01,\n",
            "         1.2426e-01, -1.5824e-01, -3.2082e-01, -1.4443e-01, -3.2988e-02,\n",
            "        -1.1981e-01, -1.5606e-01,  4.9579e-01,  7.6284e-04, -4.1214e-01,\n",
            "         4.4765e-01, -3.5505e-01,  1.0015e-01,  3.0096e-02, -1.8313e-01,\n",
            "        -1.0504e-01, -2.3072e-01, -9.2094e-01, -2.5204e-01, -2.1218e-01,\n",
            "        -3.7114e-01,  1.8221e-01, -5.8013e-01, -2.4287e-01, -1.1631e-01,\n",
            "        -2.1366e-01, -6.4388e-02,  9.0458e-02,  6.5106e-02, -8.3364e-01,\n",
            "        -1.0576e-01, -1.6517e-01,  6.7940e-01, -3.8300e-02,  1.2576e-01,\n",
            "         1.3853e-02,  9.3384e-02,  1.0365e-01, -1.3121e-01,  1.8118e-01,\n",
            "         5.9897e-01, -6.6217e-01,  1.2582e-01,  5.5623e-01,  2.6278e-01,\n",
            "         8.2051e-01,  1.7241e-01, -5.0794e-01, -1.2536e-01, -6.5620e-02,\n",
            "        -4.1237e-01,  3.5297e-01,  3.8537e-01, -5.1087e-02, -7.5262e-01,\n",
            "         7.5256e-02, -2.4786e-01,  2.5224e-01, -6.0947e-01,  7.3048e-01,\n",
            "         2.7850e-01, -9.9290e-01, -4.4976e-01, -7.3473e-01,  6.1621e-01,\n",
            "        -4.2965e-02,  2.1087e-01, -4.2639e-01, -2.5544e-01, -4.3514e-01,\n",
            "        -2.3451e-01, -1.1115e-01, -1.0268e+00, -3.2004e-01, -1.8874e-01,\n",
            "        -6.7624e-02, -4.6612e-01,  7.4087e-02, -4.8025e-02,  5.9772e-01,\n",
            "        -1.2146e-01, -2.8922e-03,  1.0243e-01, -1.7845e-01,  6.3262e-01,\n",
            "        -2.5956e-01,  2.1197e-01,  2.7286e-01, -1.0402e-01,  2.7521e-01,\n",
            "         6.6493e-01, -5.8683e-01, -2.0476e-01, -8.4663e-01, -5.1717e-01,\n",
            "         1.7865e-01, -1.7719e-01, -1.3973e-01,  2.4086e-01, -2.7490e-01,\n",
            "        -4.8616e-01, -1.2723e-01, -3.9500e-01, -7.6434e-01,  1.2559e-01,\n",
            "         5.4482e-01,  7.0851e-02, -6.7551e-01, -7.0474e-01,  5.3569e-01,\n",
            "        -3.2201e-01, -7.7024e-01, -2.7852e-01,  1.0111e-01, -4.7906e-01,\n",
            "        -2.7074e-01, -2.2702e-01,  2.7304e-02, -1.1922e-01, -2.8056e-01,\n",
            "        -2.0501e-01, -5.9467e-01,  2.2919e-01, -6.8172e-02,  2.0895e-01,\n",
            "        -5.0244e-01, -8.3381e-01,  5.3525e-01,  4.5566e-01, -8.6754e-02,\n",
            "         3.7614e-01,  4.4147e-01,  3.4230e-01, -3.2528e-01, -1.6271e-01,\n",
            "         3.4945e-01, -1.8390e-01,  7.3387e-01, -7.1878e-01, -5.7580e-01,\n",
            "         8.8276e-02, -4.8463e-01,  1.8504e-01,  3.2583e-01,  2.2917e-01,\n",
            "        -3.4473e-01, -1.4412e-01, -5.5807e-01, -1.7443e-01,  1.9913e-01,\n",
            "        -7.4807e-02,  1.3829e-01, -7.7958e-02,  3.2462e-01, -2.9762e-02,\n",
            "         4.5748e-02,  1.7322e-02, -6.4430e-01, -9.0540e-02, -2.1566e-01,\n",
            "        -1.9083e-03,  4.2601e-02, -4.6581e-02,  1.1282e+00,  4.7121e-01,\n",
            "        -6.8733e-01, -1.7757e-01,  9.5799e-02,  4.2452e-01,  8.8340e-01,\n",
            "        -1.2568e-01, -6.7844e-01,  6.8735e-02,  1.6002e-01,  1.7560e-01,\n",
            "        -2.1410e-01,  2.3523e-01,  4.4896e-01, -1.9494e-01,  7.2271e-01,\n",
            "         1.0646e-01, -6.7638e-01, -5.1703e-01, -1.8235e-01,  3.4685e-01,\n",
            "        -2.5859e-01,  8.0253e-02,  6.8745e-01,  2.9026e-02, -3.1826e-01,\n",
            "        -2.1525e-02,  3.9285e-01,  1.2075e-02, -3.4689e-02,  5.3991e-02,\n",
            "         3.2846e-01,  1.3205e-01,  3.0451e-02, -4.6737e-01, -7.1230e-01,\n",
            "         9.0507e-02, -8.3811e-02,  3.2740e-01, -3.8413e-01, -6.8279e-01,\n",
            "         2.0885e-01, -1.0126e+00,  8.3523e-02, -2.4921e-01, -1.3426e-01,\n",
            "        -1.1007e-01, -7.2863e-03, -7.6418e-02,  3.0820e-01, -4.4588e-02,\n",
            "         2.4805e-01, -1.2467e-01, -3.4187e-01, -7.9793e-02, -7.5916e-01,\n",
            "        -2.1398e-01, -1.8011e-01, -2.2050e-01,  4.3558e-01, -6.5826e-02,\n",
            "        -8.6456e-01, -1.9497e-02,  8.6858e-02,  1.8154e-01, -7.1470e-01,\n",
            "        -6.9447e-02, -7.2777e-01, -6.3256e-01,  9.9015e-02, -8.1555e-02,\n",
            "        -1.6080e-01, -6.3411e-01,  8.6421e-01, -2.7647e-01, -8.7099e-02,\n",
            "         6.5773e-01, -9.2415e-01,  5.1731e-01, -3.7864e-01,  3.1620e-01,\n",
            "         1.1983e-01, -2.2010e-01,  3.1396e-01, -6.4905e-01,  1.0457e-01,\n",
            "        -7.7592e-03, -2.7509e-01, -1.2566e-01, -5.2147e-02, -8.7227e-02,\n",
            "         4.2649e-01, -2.7011e-01,  8.0052e-02,  2.3274e-02,  2.2910e-01,\n",
            "         2.7648e-02, -7.6352e-02, -4.6605e-02,  1.2819e-02, -6.9195e-01,\n",
            "        -4.9361e-02,  2.8038e-01,  5.9023e-01, -1.3895e-01, -7.1243e-02,\n",
            "        -2.4710e-01,  1.9804e-01,  1.1354e-01, -2.2578e-01, -4.2474e-01,\n",
            "         2.3645e-01,  1.3644e-01, -2.4460e-01,  2.8521e-01, -2.0007e-02,\n",
            "         7.5482e-02,  2.1363e-01, -6.6023e-01,  5.0250e-01,  4.0544e-01,\n",
            "         6.3276e-03, -2.6752e-02,  1.5398e-01, -3.0933e-01, -1.1295e-01,\n",
            "         6.7722e-01,  3.1070e-01,  1.2982e-01,  3.4319e-01,  3.1924e-01,\n",
            "        -4.5577e-01,  1.5454e-01, -1.9719e-01, -8.5712e-02, -3.3266e-02,\n",
            "         4.2693e-01,  3.7114e-01, -7.2214e-02, -5.5666e-01, -2.0805e-01,\n",
            "        -4.6476e-01, -1.6217e-01,  2.8071e-01, -3.2107e-01,  3.9133e-01,\n",
            "         3.9831e-01,  2.7879e-01, -3.1678e-01,  4.5913e-01, -2.2770e-02,\n",
            "        -3.4163e-01, -1.5622e-01,  1.1046e-01, -1.8394e-01,  4.0343e-01,\n",
            "         6.3962e-02,  8.8353e-02, -6.0158e-03, -2.2641e-01,  1.0418e-01,\n",
            "        -3.7184e-01, -2.0291e-01,  2.8959e-01, -8.4430e-02, -1.1554e-02,\n",
            "        -3.9546e-01, -1.3643e-01,  2.2108e-03, -2.7235e-01,  1.3971e-01,\n",
            "        -1.0054e-02,  9.6048e-01,  3.6328e-01,  4.4397e-01, -2.5851e-02,\n",
            "        -1.8844e-01,  5.3609e-03,  2.3951e-01, -2.9297e-01,  4.4195e-01,\n",
            "         1.4458e-01,  3.1141e-01,  4.1922e-01,  1.1173e-01, -2.2559e-01,\n",
            "        -1.7927e-01, -2.4879e-01,  1.4513e-01,  2.4467e-01,  5.6358e-01,\n",
            "         4.3657e-02, -7.6307e-02,  2.2515e-01,  4.9244e-01, -5.4600e-02,\n",
            "        -1.9245e-02, -2.2052e-01,  2.6168e-01,  1.3322e-01, -4.0651e-01,\n",
            "        -3.4498e-01,  2.0299e-01,  2.4433e-01, -4.1709e-01, -3.1450e-01,\n",
            "        -4.9972e-01, -2.3451e-01, -5.4534e-02, -4.0562e-01, -1.3860e-01,\n",
            "        -2.9187e-01, -4.0700e-01, -2.7777e-01, -1.3579e-01,  4.6977e-02,\n",
            "         1.5729e-02, -8.6629e-02, -3.6153e-01, -1.1343e-01, -1.2839e-02,\n",
            "         1.5416e-01,  2.9668e-01, -3.1014e-01, -3.9498e-01, -4.7562e-01,\n",
            "        -6.1127e-01, -2.7990e-01,  8.7110e-02, -9.7444e-02, -2.5839e-01,\n",
            "         4.2003e-01, -4.0096e-01, -5.0170e-02, -1.7567e-01,  3.2753e-01,\n",
            "        -5.0954e-02, -2.2245e-01, -1.7528e-01, -2.8865e-01, -1.7186e-01,\n",
            "        -4.3954e-01, -5.4037e-01, -1.1154e-01,  5.8009e-02, -3.9046e-01,\n",
            "         6.4484e-01, -1.9174e-01,  2.8470e-01, -9.9771e-01, -2.9222e-01,\n",
            "         2.9561e-01,  3.9106e-02,  3.6033e-01, -7.3010e-01,  4.7388e-01,\n",
            "        -9.7652e-02,  6.4405e-02, -9.4356e-02,  1.9893e-02, -1.7833e-01,\n",
            "         7.1250e-02,  1.0115e-02,  8.6586e-01, -1.9418e-02,  1.9436e-01,\n",
            "         6.6849e-01,  1.1097e-01,  1.4513e-01,  1.8836e-02, -3.1907e-01,\n",
            "         2.2680e-01, -1.3914e-01, -1.9136e-01, -2.8546e-01, -1.9055e-01,\n",
            "        -3.1999e-02, -2.9642e-02,  2.9484e-01, -3.3984e-01, -8.4725e-01,\n",
            "        -3.0388e-01, -3.7404e-01, -5.4281e-01])\n"
          ],
          "name": "stdout"
        }
      ]
    },
    {
      "cell_type": "code",
      "metadata": {
        "id": "AsSLiBCaVuI_"
      },
      "source": [
        "i=0\n",
        "j=1\n",
        "while i<len(data)-1:\n",
        "  #print(paper1_id, paper2_id)\n",
        "  for x in y_list:\n",
        "    j=i+1\n",
        "    while j <len(y_list):\n",
        "      sentence_similarity = 1 - cosine(y_list[i], y_list[j])\n",
        "      paper1_data=data[i]\n",
        "      paper2_data=data[j]\n",
        "      paper1_id=paper1_data['id']\n",
        "      paper2_id=paper2_data['id']\n",
        "      with open('embedding.txt', 'a+') as f:\n",
        "        f.write(\"%s %s %s\"  % (paper1_id, paper2_id, sentence_similarity))\n",
        "        f.write(\"\\n\")\n",
        "      #print(paper1_id,paper2_id,sentence_similarity)\n",
        "      #print('another similarity')\n",
        "\n",
        "      j=j+1\n",
        "    i=i+1\n",
        "  i=i+1"
      ],
      "execution_count": null,
      "outputs": []
    },
    {
      "cell_type": "code",
      "metadata": {
        "colab": {
          "base_uri": "https://localhost:8080/"
        },
        "id": "a_q8zpNyV3iQ",
        "outputId": "da180b7c-d2c8-42f7-91a9-6012c398d44c"
      },
      "source": [
        "sentence_similarity = 1-cosine(y_list[1], y_list[0])\n",
        "print(round(sentence_similarity, 8))\n"
      ],
      "execution_count": null,
      "outputs": [
        {
          "output_type": "stream",
          "text": [
            "0.81118399\n"
          ],
          "name": "stdout"
        }
      ]
    },
    {
      "cell_type": "code",
      "source": [
        "from sklearn.model_selection import train_test_split\n",
        "from sklearn.metrics import accuracy_score, classification_report\n",
        "from sklearn.preprocessing import StandardScaler\n",
        "from dbn.tensorflow import SupervisedDBNClassification"
      ],
      "metadata": {
        "id": "FA_rwg6KpkkL"
      },
      "execution_count": null,
      "outputs": []
    },
    {
      "cell_type": "code",
      "source": [
        "bert_embeddings = np.load('bert_embeddings.npy')\n",
        "labels = np.load('labels.npy')"
      ],
      "metadata": {
        "id": "9Syp66CsrhyJ"
      },
      "execution_count": null,
      "outputs": []
    },
    {
      "cell_type": "code",
      "source": [
        "scaler = StandardScaler()\n",
        "bert_embeddings_scaled = scaler.fit_transform(bert_embeddings)"
      ],
      "metadata": {
        "id": "A38rc_GJru9B"
      },
      "execution_count": null,
      "outputs": []
    },
    {
      "cell_type": "code",
      "source": [
        "X_train, X_test, y_train, y_test = train_test_split(\n",
        "    bert_embeddings_scaled, labels, test_size=0.2, random_state=42\n",
        ")"
      ],
      "metadata": {
        "id": "sNta4MZ9rzbn"
      },
      "execution_count": null,
      "outputs": []
    },
    {
      "cell_type": "code",
      "source": [
        "dbn = SupervisedDBNClassification(\n",
        "    hidden_layers_structure=[256, 128],  # Hidden layers with 256 and 128 neurons\n",
        "    learning_rate_rbm=0.01,              # Learning rate for RBM pretraining\n",
        "    learning_rate=0.01,                  # Learning rate for fine-tuning\n",
        "    n_epochs_rbm=10,                     # Epochs for RBM training\n",
        "    n_iter_backprop=100,                 # Iterations for backpropagation fine-tuning\n",
        "    batch_size=32,                       # Batch size\n",
        "    activation_function='relu',          # Activation function\n",
        "    dropout_p=0.2                        # Dropout probability\n",
        ")"
      ],
      "metadata": {
        "id": "IB9IsTrTr5j4"
      },
      "execution_count": null,
      "outputs": []
    },
    {
      "cell_type": "code",
      "source": [
        "print(\"Training DBN...\")\n",
        "dbn.fit(X_train, y_train)"
      ],
      "metadata": {
        "id": "mxnImlUar6yM"
      },
      "execution_count": null,
      "outputs": []
    },
    {
      "cell_type": "code",
      "source": [
        "print(\"Evaluating DBN...\")\n",
        "y_pred = dbn.predict(X_test)"
      ],
      "metadata": {
        "id": "xHvuDEugsDFQ"
      },
      "execution_count": null,
      "outputs": []
    },
    {
      "cell_type": "code",
      "source": [
        "# Calculate metrics\n",
        "accuracy = accuracy_score(y_test, y_pred)\n",
        "print(f\"Test Accuracy: {accuracy:.4f}\")\n",
        "print(\"\\nClassification Report:\")\n",
        "print(classification_report(y_test, y_pred))"
      ],
      "metadata": {
        "id": "Gi_7DDwtsISf"
      },
      "execution_count": null,
      "outputs": []
    },
    {
      "cell_type": "code",
      "source": [
        "# Step 6: Save the Trained Model\n",
        "dbn.save('dbn_model.pkl')\n",
        "print(\"Model saved to 'dbn_model.pkl'\")"
      ],
      "metadata": {
        "id": "xBMefCbMsJl6"
      },
      "execution_count": null,
      "outputs": []
    },
    {
      "cell_type": "code",
      "source": [],
      "metadata": {
        "id": "SC8Jbe-esNkZ"
      },
      "execution_count": null,
      "outputs": []
    }
  ]
}